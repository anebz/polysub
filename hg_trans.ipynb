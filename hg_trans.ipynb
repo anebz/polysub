{
 "cells": [
  {
   "cell_type": "code",
   "execution_count": 1,
   "metadata": {},
   "outputs": [
    {
     "name": "stderr",
     "output_type": "stream",
     "text": [
      "C:\\Users\\aberasat\\AppData\\Local\\Programs\\Python\\Python38\\lib\\site-packages\\tqdm\\auto.py:22: TqdmWarning: IProgress not found. Please update jupyter and ipywidgets. See https://ipywidgets.readthedocs.io/en/stable/user_install.html\n",
      "  from .autonotebook import tqdm as notebook_tqdm\n",
      "Downloading: 100%|██████████| 807k/807k [00:00<00:00, 945kB/s]  \n",
      "Downloading: 100%|██████████| 783k/783k [00:00<00:00, 919kB/s] \n",
      "Downloading: 100%|██████████| 1.52M/1.52M [00:00<00:00, 2.38MB/s]\n"
     ]
    }
   ],
   "source": [
    "from transformers import pipeline\n",
    "model_checkpoint = \"Helsinki-NLP/opus-mt-es-en\"\n",
    "translator = pipeline(\"translation\", model=model_checkpoint)\n"
   ]
  },
  {
   "cell_type": "code",
   "execution_count": 4,
   "metadata": {},
   "outputs": [
    {
     "data": {
      "text/plain": [
       "[{'translation_text': 'How old are you?'}]"
      ]
     },
     "execution_count": 4,
     "metadata": {},
     "output_type": "execute_result"
    }
   ],
   "source": [
    "translator(\"Cuantos años tienes?\")"
   ]
  },
  {
   "cell_type": "code",
   "execution_count": 12,
   "metadata": {},
   "outputs": [
    {
     "name": "stderr",
     "output_type": "stream",
     "text": [
      "I0403 11:54:56.866431  3772 filelock.py:274] Lock 2966073702216 acquired on C:\\Users\\anebe/.cache\\huggingface\\transformers\\4fc6a712f8bf2b9531f08e77fc3d53c562cee2e1c2033ba57aba5f0d1ed693f5.cc188607ac7f49691b4309fcc0bea264b9636e260327ca90b3fd97a4a18a4b72.lock\n",
      "Downloading: 100%|██████████| 826k/826k [00:00<00:00, 1.17MB/s]\n",
      "I0403 11:54:58.749854  3772 filelock.py:318] Lock 2966073702216 released on C:\\Users\\anebe/.cache\\huggingface\\transformers\\4fc6a712f8bf2b9531f08e77fc3d53c562cee2e1c2033ba57aba5f0d1ed693f5.cc188607ac7f49691b4309fcc0bea264b9636e260327ca90b3fd97a4a18a4b72.lock\n",
      "I0403 11:54:59.415039  3772 filelock.py:274] Lock 2967000465160 acquired on C:\\Users\\anebe/.cache\\huggingface\\transformers\\96077f76e3978a5299a3b26fcd4a1900c5985dc8b2792e815952b1254c73c8b8.57b26e455a99e63418aaf3a22b87411b5aa5d98dcf6225725346d661faddca98.lock\n",
      "Downloading: 100%|██████████| 802k/802k [00:01<00:00, 745kB/s]  \n",
      "I0403 11:55:01.310015  3772 filelock.py:318] Lock 2967000465160 released on C:\\Users\\anebe/.cache\\huggingface\\transformers\\96077f76e3978a5299a3b26fcd4a1900c5985dc8b2792e815952b1254c73c8b8.57b26e455a99e63418aaf3a22b87411b5aa5d98dcf6225725346d661faddca98.lock\n",
      "I0403 11:55:01.983678  3772 filelock.py:274] Lock 2967000341768 acquired on C:\\Users\\anebe/.cache\\huggingface\\transformers\\c95c6158677276b65047cc82ed63bb43a738234d69b6a9fec6319831be963a1f.aa741afe4e8ad7c65957c8d4e77bf4d260c8df025882f91e75630b3629cc4041.lock\n",
      "Downloading: 100%|██████████| 1.59M/1.59M [00:00<00:00, 1.77MB/s]\n",
      "I0403 11:55:03.716003  3772 filelock.py:318] Lock 2967000341768 released on C:\\Users\\anebe/.cache\\huggingface\\transformers\\c95c6158677276b65047cc82ed63bb43a738234d69b6a9fec6319831be963a1f.aa741afe4e8ad7c65957c8d4e77bf4d260c8df025882f91e75630b3629cc4041.lock\n",
      "I0403 11:55:04.548921  3772 filelock.py:274] Lock 2967356068168 acquired on C:\\Users\\anebe/.cache\\huggingface\\transformers\\ef34c3887c81112676578f63fd2974c647a29ec615aca30872d3ec3abe478777.8d9f893bf7e7d7cdaf8347a8ea2b7b656975703ab78f0ea437b59dc82c74bfc3.lock\n",
      "Downloading: 100%|██████████| 44.0/44.0 [00:00<00:00, 3.15kB/s]\n",
      "I0403 11:55:05.223373  3772 filelock.py:318] Lock 2967356068168 released on C:\\Users\\anebe/.cache\\huggingface\\transformers\\ef34c3887c81112676578f63fd2974c647a29ec615aca30872d3ec3abe478777.8d9f893bf7e7d7cdaf8347a8ea2b7b656975703ab78f0ea437b59dc82c74bfc3.lock\n",
      "I0403 11:55:09.294619  3772 filelock.py:274] Lock 2969013263432 acquired on C:\\Users\\anebe/.cache\\huggingface\\transformers\\fff0d80cd1590357b109efdc2eaf7534e652daf4ed1e4dab107c4742d480aa90.175783185eb9d9b71534371e2d601226f068e277cf6e50851e3ea6f262a4ca30.lock\n",
      "Downloading: 100%|██████████| 312M/312M [00:29<00:00, 10.5MB/s] \n",
      "I0403 11:55:39.557675  3772 filelock.py:318] Lock 2969013263432 released on C:\\Users\\anebe/.cache\\huggingface\\transformers\\fff0d80cd1590357b109efdc2eaf7534e652daf4ed1e4dab107c4742d480aa90.175783185eb9d9b71534371e2d601226f068e277cf6e50851e3ea6f262a4ca30.lock\n"
     ]
    }
   ],
   "source": [
    "import transformers\n",
    "from transformers import AutoTokenizer, AutoModelForSeq2SeqLM\n",
    "tokenizer = AutoTokenizer.from_pretrained(\"Helsinki-NLP/opus-mt-es-en\")\n",
    "model = AutoModelForSeq2SeqLM.from_pretrained(\"Helsinki-NLP/opus-mt-es-en\")\n"
   ]
  },
  {
   "cell_type": "code",
   "execution_count": 19,
   "metadata": {},
   "outputs": [
    {
     "data": {
      "text/plain": [
       "'<pad> I live in Granada, a small town that has very important monuments such as the Alhambra. Here the food is delicious and are famous the gazpacho, the rebujito and the salmonrejo. My new house is on a wide street that has many trees. The floor above my house has three bedrooms and an office to work. The floor below has a very large kitchen, a dining room with a table and six chairs, a living room with two green sofas, a TV and curtains. In addition, it has a small terrace with swimming pool where I can sunbathe in summer. I like my house very much because I can invite my friends to dinner or watch football on my television. In addition, near my house there are many shops to do the shopping, such as bakery, butcherery and fishing.'"
      ]
     },
     "execution_count": 19,
     "metadata": {},
     "output_type": "execute_result"
    }
   ],
   "source": [
    "text = '''\n",
    "Yo vivo en Granada, una ciudad pequeña que tiene monumentos muy importantes como la Alhambra. Aquí la comida es deliciosa y son famosos el gazpacho, el rebujito y el salmorejo.\n",
    "Mi nueva casa está en una calle ancha que tiene muchos árboles. El piso de arriba de mi casa tiene tres dormitorios y un despacho para trabajar. El piso de abajo tiene una cocina muy grande, un comedor con una mesa y seis sillas, un salón con dos sofás verdes, una televisión y cortinas. Además, tiene una pequeña terraza con piscina donde puedo tomar el sol en verano.\n",
    "Me gusta mucho mi casa porque puedo invitar a mis amigos a cenar o a ver el fútbol en mi televisión. Además, cerca de mi casa hay muchas tiendas para hacer la compra, como panadería, carnicería y pescadería.\n",
    "'''\n",
    "tokenized_text = tokenizer.prepare_seq2seq_batch([text], return_tensors='pt')\n",
    "translation = model.generate(**tokenized_text)\n",
    "translated_text = tokenizer.batch_decode(translation, skip_special_tokens=False)[0]\n",
    "translated_text\n"
   ]
  },
  {
   "cell_type": "code",
   "execution_count": null,
   "metadata": {},
   "outputs": [],
   "source": []
  }
 ],
 "metadata": {
  "interpreter": {
   "hash": "7525621cd3a2e25b7317b40ac4dfc2d226233ceaa41d5a5693f98340396a3aee"
  },
  "kernelspec": {
   "display_name": "Python 3.6.1 32-bit",
   "language": "python",
   "name": "python3"
  },
  "language_info": {
   "codemirror_mode": {
    "name": "ipython",
    "version": 3
   },
   "file_extension": ".py",
   "mimetype": "text/x-python",
   "name": "python",
   "nbconvert_exporter": "python",
   "pygments_lexer": "ipython3",
   "version": "3.8.6"
  },
  "orig_nbformat": 4
 },
 "nbformat": 4,
 "nbformat_minor": 2
}
